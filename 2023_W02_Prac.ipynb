{
 "cells": [
  {
   "cell_type": "markdown",
   "metadata": {},
   "source": [
    "# COMP SCI 1015 IAP - W02 - Practical"
   ]
  },
  {
   "cell_type": "markdown",
   "metadata": {},
   "source": [
    "## Task 1 - Calculations in Python #1 (25 marks)"
   ]
  },
  {
   "attachments": {
    "image.png": {
     "image/png": "[encoded data removed]"
    }
   },
   "cell_type": "markdown",
   "metadata": {},
   "source": [
    "<!-- BEGIN QUESTION -->\n",
    "\n",
    "![image.png](attachment:image.png)"
   ]
  },
  {
   "cell_type": "markdown",
   "metadata": {},
   "source": [
    "Write a program that calculates the perimeter and area of a rectangle. You must use the variable names provided.\n",
    "\n",
    "Measurement formulas:\n",
    "* $perimeter = (width + height) * 2$\n",
    "* $area = width * height$\n",
    "\n",
    "<font color='red'>Please set `width` to 23 and `height` to 15 before you submission!</font>"
   ]
  },
  {
   "cell_type": "code",
   "execution_count": null,
   "metadata": {
    "tags": []
   },
   "outputs": [],
   "source": [
    "# INPUT YOUR CODE BELOW\n",
    "width = ...\n",
    "height = ...\n",
    "\n",
    "perimeter = ...\n",
    "area = ...\n",
    "\n",
    "print(f'w: {width}, h: {height}, perimeter: {perimeter}, area: {area}')\n",
    "# ================\n",
    "# TEST CASES BELOW\n",
    "# w: 5, h: 10, perimeter: 30, area: 50\n",
    "# w: 13, h: 7, perimeter: 40, area: 91"
   ]
  },
  {
   "cell_type": "markdown",
   "metadata": {},
   "source": [
    "<!-- END QUESTION -->\n",
    "\n",
    "## Task 2 - Calculations in Python #2 (25 marks)"
   ]
  },
  {
   "cell_type": "markdown",
   "metadata": {},
   "source": [
    "<!-- BEGIN QUESTION -->\n",
    "\n",
    "Write a program that calculates the perimeter and area of a circle. You must use the variable names provided.\n",
    "\n",
    "Measurement formulas:\n",
    "* $perimeter = 2 * \\pi * r$\n",
    "* $area = \\pi * r^2$\n",
    "\n",
    "<font color='red'>Please set `r` to 20 before you submission!</font>"
   ]
  },
  {
   "cell_type": "code",
   "execution_count": null,
   "metadata": {
    "tags": []
   },
   "outputs": [],
   "source": [
    "# First, import pi from the math module\n",
    "...\n",
    "\n",
    "# INPUT YOUR CODE BELOW\n",
    "r = ...\n",
    "perimeter = ...\n",
    "area = ...\n",
    "\n",
    "print(f'r: {r} - perimeter: {perimeter} - area: {area}') \n",
    "# ================\n",
    "# TEST CASES BELOW\n",
    "# r: 5 - perimeter: 31.41592653589793 - area: 78.53981633974483\n",
    "# r: 10 - perimeter: 62.83185307179586 - area: 314.1592653589793"
   ]
  },
  {
   "cell_type": "markdown",
   "metadata": {},
   "source": [
    "<!-- END QUESTION -->\n",
    "\n",
    "## Task 3 - Calculations in Python #3 (25 marks)"
   ]
  },
  {
   "attachments": {
    "image.png": {
     "image/png": "[encoded data removed]"
    }
   },
   "cell_type": "markdown",
   "metadata": {},
   "source": [
    "The most common method of finding the area of a triangle is $area = \\frac{1}{2}*base*height$, however it is not the only method available. It is possible to calculate the area of a triangle given the coordinates of its vertices. Given the following triangle with vertices in the form $V(x_v, y_v)$ the area can be calculated using $area = \\frac{|A_x(B_y - C_y) + B_x(C_y - A_y) + C_x(A_y - B_y)|}{2}$\n",
    "\n",
    "![image.png](attachment:image.png)\n",
    "\n",
    "Write a program that has 6 variables `Ax`, `Ay`, `Bx`, `By`, `Cx`, `Cy` and calculates the triangle formed by these points using the formula above.\n",
    "\n",
    "<font color='red'>Please set the variables to 5, 8, 12, 9, 3, and 4, respectively, before you submission!</font>"
   ]
  },
  {
   "cell_type": "code",
   "execution_count": null,
   "metadata": {
    "tags": []
   },
   "outputs": [],
   "source": [
    "x = abs(-3) # HINT: this line give you the absolute value\n",
    "print(x)\n",
    "\n",
    "# INPUT YOUR CODE BELOW\n",
    "Ax = ...\n",
    "Ay = ...\n",
    "Bx = ...\n",
    "By = ...\n",
    "Cx = ...\n",
    "Cy = ...\n",
    "\n",
    "area = ...\n",
    "\n",
    "print(f'{Ax}, {Ay}, {Bx}, {By}, {Cx}, {Cy} - {area}')\n",
    "# ================\n",
    "# TEST CASES BELOW\n",
    "# 3, 3, 5, 5, 4, 5 - 1.0\n",
    "# 4, 4, 8, 10, 2, 2 - 2.0"
   ]
  },
  {
   "cell_type": "markdown",
   "metadata": {},
   "source": [
    "## Task 4 - Calculations in Python #4 (25 marks)"
   ]
  },
  {
   "cell_type": "markdown",
   "metadata": {},
   "source": [
    "<!-- BEGIN QUESTION -->\n",
    "\n",
    "Alice runs to work everyday. Assume the distance between her home and office is `x` km. For the first 50\\% of the distance, Alice runs at an easy pace (3km per hour), then 40\\% at tempo (6km per hour), and 10% at easy pace again (3km per hour).\n",
    "\n",
    "Please calculate how many **minutes** it takes for Alice to get to her office. Your final answer should be stored in the variable `min`.\n",
    "\n",
    "<font color='red'>Please set `x` to 7 before you submission!</font>"
   ]
  },
  {
   "cell_type": "code",
   "execution_count": null,
   "metadata": {
    "tags": []
   },
   "outputs": [],
   "source": [
    "# x = input('Please input the distance between home and office:')\n",
    "\n",
    "# INPUT YOUR CODE BELOW\n",
    "x = ...\n",
    "hrs = ...\n",
    "mins = ...\n",
    "\n",
    "print(f'If distance is {x} km, it will take Alice {mins} minutes to arrive her office')\n",
    "# ================\n",
    "# TEST CASES BELOW\n",
    "# If distance is 11 km, it will take Alice 176.0 minutes to arrive her office\n",
    "# If distance is 15 km, it will take Alice 240.0 minutes to arrive her office"
   ]
  },
  {
   "cell_type": "markdown",
   "metadata": {},
   "source": [
    "<!-- END QUESTION -->\n",
    "\n"
   ]
  }
 ],
 "metadata": {
  "kernelspec": {
   "display_name": "Python 3 (ipykernel)",
   "language": "python",
   "name": "python3"
  },
  "language_info": {
   "codemirror_mode": {
    "name": "ipython",
    "version": 3
   },
   "file_extension": ".py",
   "mimetype": "text/x-python",
   "name": "python",
   "nbconvert_exporter": "python",
   "pygments_lexer": "ipython3",
   "version": "3.9.12"
  },
  "otter": {
   "tests": {
    "Task1": {
     "name": "Task1",
     "points": 25,
     "suites": [
      {
       "cases": [
        {
         "code": ">>> area == 345\nTrue",
         "failure_message": "Incorrect. Have you set width = 23 and height = 15 ?",
         "hidden": false,
         "locked": false,
         "success_message": "Good job!"
        }
       ],
       "scored": true,
       "setup": "",
       "teardown": "",
       "type": "doctest"
      }
     ]
    },
    "Task2": {
     "name": "Task2",
     "points": 25,
     "suites": [
      {
       "cases": [
        {
         "code": ">>> r == 20\nTrue",
         "failure_message": "Please set r as 20!",
         "hidden": false,
         "locked": false,
         "success_message": "Good job!"
        },
        {
         "code": ">>> area == 1256.6370614359173\nTrue",
         "failure_message": "Incorrect answer, try again!",
         "hidden": false,
         "locked": false,
         "success_message": "Good job!"
        }
       ],
       "scored": true,
       "setup": "",
       "teardown": "",
       "type": "doctest"
      }
     ]
    },
    "Task3": {
     "name": "Task3",
     "points": 25,
     "suites": [
      {
       "cases": [
        {
         "code": ">>> area == 13\nTrue",
         "failure_message": "Incorrect. Have you changed the A, B, C values?",
         "hidden": false,
         "locked": false,
         "success_message": "Good job!"
        }
       ],
       "scored": true,
       "setup": "",
       "teardown": "",
       "type": "doctest"
      }
     ]
    },
    "Task4": {
     "name": "Task4",
     "points": 25,
     "suites": [
      {
       "cases": [
        {
         "code": ">>> int(mins) == 112\nTrue",
         "failure_message": "Incorrect. Have you set x = 7?",
         "hidden": false,
         "locked": false,
         "success_message": "Good job!"
        }
       ],
       "scored": true,
       "setup": "",
       "teardown": "",
       "type": "doctest"
      }
     ]
    }
   }
  },
  "vscode": {
   "interpreter": {
    "hash": "d57c152add3a77aa406b6a31edc12b55f0062050fedadc6ea5d152b48566b0e5"
   }
  }
 },
 "nbformat": 4,
 "nbformat_minor": 4
}
