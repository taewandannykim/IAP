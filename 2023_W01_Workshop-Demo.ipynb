{
 "cells": [
  {
   "cell_type": "markdown",
   "metadata": {},
   "source": [
    "# COMP SCI 1015 IAP - W01 - Workshop\n",
    "\n",
    "## Introduction\n",
    "\n",
    "Welcome to your first workshop for **Introduction to Applied Programming**! These workshops will give you an opporunity to practice the content discussed in lectures and ask questions to teaching staff. Most workshops focus on the practical skills, but some focus on theory. Workshops are comprised of a set of exercises, which can be completed either alone or in pairs. The final question is the **submission exercise**, it must be completed alone and you will submit this question for grading before you leave the session.\n",
    "\n",
    "Workshop flow and earning your grade:\n",
    "1. First complete all **practice exercises** either by yourself or with a partner.\n",
    "1. Complete the **submission exercise** by yourself and submit your Jupyter Notebook to **Gradescope**. Check your grade on Gradescope. If you got 100, great! If not keep trying!\n",
    "1. Discuss your solutions with your tutor. This will earn your **participation grade**.\n",
    "\n",
    "*Unlike future workshops, today your tutor will run the demonstrations and you will complete the activities.*"
   ]
  },
  {
   "cell_type": "markdown",
   "metadata": {},
   "source": [
    "# Programming Environment\n",
    "\n",
    "You will use the **Jupyter notebook** in this semester. It is an open-source web application that allows you to create and share documents that contain live code, equations, visualizations and narrative text. If you reach this page via the link on MyUni, you are using the **[Binder](https://mybinder.org)**, a service that provides software and hardware for users to execute Jupyter notebook remotely. \n",
    "\n",
    "There are some limits when using Binder, e.g. <font color='red'>you will lose all edits once you close the browser window </font>. As such, we do **not** recommend using Binder in future weeks."
   ]
  },
  {
   "cell_type": "markdown",
   "metadata": {},
   "source": [
    "## Jupyter Notebook "
   ]
  },
  {
   "cell_type": "markdown",
   "metadata": {},
   "source": [
    "Jupyter notebook consists of a series of **cells**. Each cell can be *text* or *executable live code*. You can identify the type of the cell by looking at the menu bar(as shown in figure below) or by the appearance of the cell. "
   ]
  },
  {
   "cell_type": "markdown",
   "metadata": {},
   "source": [
    "---\n",
    "---"
   ]
  },
  {
   "cell_type": "code",
   "execution_count": null,
   "metadata": {},
   "outputs": [],
   "source": [
    "#this is a code cell\n"
   ]
  },
  {
   "cell_type": "markdown",
   "metadata": {},
   "source": [
    "This is a test cell, line 1 <br>\n",
    "This is a test cell, line 2 <br>\n",
    "This is a test cell, line 3"
   ]
  },
  {
   "cell_type": "markdown",
   "metadata": {},
   "source": [
    "---\n",
    "---"
   ]
  },
  {
   "cell_type": "markdown",
   "metadata": {},
   "source": [
    "The basic interacation with the notebook are:\n",
    "- Use `arrow keys` to navigate between cells\n",
    "- Press `enter` to edit the cell\n",
    "- Press `esc` to stop editing the cell\n",
    "- Press `shift + enter` to *run* the cell"
   ]
  },
  {
   "cell_type": "markdown",
   "metadata": {},
   "source": [
    "---\n",
    "## Demo 1 : Hello World\n",
    "\n",
    "When learning a new programming language, the first program usually output characters 'hello world' to the screen. We often call it the 'hello world' program. \n",
    "\n",
    "Following the tradition, let's do it in Python! Now, \n",
    "1. navigate to the code cell below and \n",
    "1. press `shift+enter`\n"
   ]
  },
  {
   "cell_type": "code",
   "execution_count": null,
   "metadata": {},
   "outputs": [],
   "source": [
    "print(\"Hello World!\")"
   ]
  },
  {
   "cell_type": "markdown",
   "metadata": {},
   "source": [
    "You've just written your first line of Python code! Normally to run Python we would have to launch it from the command line interface (CLI) using the command <code>Python3</code>. However, luckily for us, Python is built into Jupyter Notebooks and we use the Binder service. This means we can run the code directly within the browser without installing anything!\n",
    "\n",
    "Let's unwrap the code a bit:\n",
    "- `print` is a built-in Python **function**. We will talk about **function** in more details in week 3. \n",
    "- The quotation marks `\" \"` tells Python the start and end of the text and these quotation marks do not appear in the result."
   ]
  },
  {
   "cell_type": "code",
   "execution_count": null,
   "metadata": {},
   "outputs": [],
   "source": [
    "print(\"Don't panic when you see error)"
   ]
  },
  {
   "cell_type": "markdown",
   "metadata": {},
   "source": [
    "If you execute the code above, you will see a `syntax error`. This is when Python interpreter cannot understand your language (recall the natural language vs formal language in the textbook). Try compare with the first code cell and see if you can identify the syntax error!"
   ]
  },
  {
   "cell_type": "markdown",
   "metadata": {},
   "source": [
    "### Values and Types "
   ]
  },
  {
   "cell_type": "markdown",
   "metadata": {},
   "source": [
    "All the **values** we input are associated with **data types**. For example, `2` is an *integer* and `2.3` is a *floating-point number* (or simply a float), `hello world` is a *string*. Note that Python treat text inside quotation marks `\" \"` as a *string*. We can use the built-in `type` function to obtain the type of the value.  "
   ]
  },
  {
   "cell_type": "code",
   "execution_count": null,
   "metadata": {},
   "outputs": [],
   "source": [
    "type(2)"
   ]
  },
  {
   "cell_type": "code",
   "execution_count": null,
   "metadata": {},
   "outputs": [],
   "source": [
    "type(2.3)"
   ]
  },
  {
   "cell_type": "code",
   "execution_count": null,
   "metadata": {},
   "outputs": [],
   "source": [
    "type(\"hello world\")"
   ]
  },
  {
   "cell_type": "markdown",
   "metadata": {},
   "source": [
    "### Arithmatic Operators "
   ]
  },
  {
   "cell_type": "markdown",
   "metadata": {},
   "source": [
    "Python also provide *operators*, which represents computation such as addition or subtraction. \n",
    "- `+` addition\n",
    "- `-` subtraction\n",
    "- `*` multiplication\n",
    "- `/` division\n",
    "- `**` exponentiation\n",
    "\n",
    "You can write down math formulas and let Python calculate the result for you."
   ]
  },
  {
   "cell_type": "code",
   "execution_count": null,
   "metadata": {},
   "outputs": [],
   "source": [
    "30 + 20"
   ]
  },
  {
   "cell_type": "code",
   "execution_count": null,
   "metadata": {},
   "outputs": [],
   "source": [
    "3 * 2"
   ]
  },
  {
   "cell_type": "code",
   "execution_count": null,
   "metadata": {},
   "outputs": [],
   "source": [
    "5**2 + 3*2 + 10 "
   ]
  },
  {
   "cell_type": "markdown",
   "metadata": {},
   "source": [
    "As you can imagine, some values of different data types cannot be added together. If you tried doing so, you will have a `Type Error` message. We will get back to this one in future classes."
   ]
  },
  {
   "cell_type": "code",
   "execution_count": null,
   "metadata": {},
   "outputs": [],
   "source": [
    "2 + 'hello'"
   ]
  },
  {
   "cell_type": "markdown",
   "metadata": {},
   "source": [
    "The Type Error could be ticky sometime. Can you figure out which code cell will produce an error and why?"
   ]
  },
  {
   "cell_type": "code",
   "execution_count": null,
   "metadata": {},
   "outputs": [],
   "source": [
    "2 + 2"
   ]
  },
  {
   "cell_type": "code",
   "execution_count": null,
   "metadata": {},
   "outputs": [],
   "source": [
    "'2' + '2'"
   ]
  },
  {
   "cell_type": "code",
   "execution_count": null,
   "metadata": {},
   "outputs": [],
   "source": [
    "2 + 2.5"
   ]
  },
  {
   "cell_type": "code",
   "execution_count": null,
   "metadata": {},
   "outputs": [],
   "source": [
    "2 + '2'"
   ]
  },
  {
   "cell_type": "markdown",
   "metadata": {},
   "source": [
    "---\n",
    "## Activity 1: Print your name and ID\n",
    "\n",
    "Try write a line of code that print out your student id and name in the cell below!"
   ]
  },
  {
   "cell_type": "code",
   "execution_count": null,
   "metadata": {},
   "outputs": [],
   "source": [
    "#INSERT YOUR CODE HERE\n"
   ]
  },
  {
   "cell_type": "markdown",
   "metadata": {},
   "source": [
    "---\n",
    "## Demo 2: Chessboard "
   ]
  },
  {
   "cell_type": "markdown",
   "metadata": {},
   "source": [
    "Some of you might be asking, what if my name is not in English? Can Python handle different language or symbols? How can we ensure the program we write can be ran on different operating systems using different languages?\n",
    "\n",
    "To solve this issue, the community has setup a unicode standard. If we head to https://unicode.org/charts/ we will find all the charcter charts supported by unicode. Such characters even include game playing peices such as those found in chess. https://unicode.org/charts/PDF/U2600.pdf\n",
    "\n",
    "Use the unicode above, we can print out a chessboard! Try run the code below (shift + enter)"
   ]
  },
  {
   "cell_type": "code",
   "execution_count": null,
   "metadata": {},
   "outputs": [],
   "source": [
    "print(\"   [A][B][C][D][E][F][G][H]\")\n",
    "print(\"[8][ ][ ][ ][ ][ ][ ][ ][ ]\")\n",
    "print(\"[7][ ][ ][ ][ ][ ][ ][ ][ ]\")\n",
    "print(\"[6][ ][ ][ ][ ][ ][ ][ ][ ]\")\n",
    "print(\"[5][ ][ ][ ][ ][ ][ ][ ][ ]\")\n",
    "print(\"[4][ ][ ][ ][ ][ ][ ][ ][ ]\")\n",
    "print(\"[3][ ][ ][ ][ ][ ][ ][ ][ ]\")\n",
    "print(\"[2][\\u2659][\\u2659][\\u2659][\\u2659][\\u2659][\\u2659][\\u2659][\\u2659]\")\n",
    "print(\"[1][\\u2656][\\u2658][\\u2657][\\u2655][\\u2654][\\u2657][\\u2658][\\u2656]\")\n",
    "print(\"   [A][B][C][D][E][F][G][H]\")"
   ]
  },
  {
   "cell_type": "markdown",
   "metadata": {},
   "source": [
    "---\n",
    "## Activity 2: Complete the Chess Board"
   ]
  },
  {
   "cell_type": "markdown",
   "metadata": {},
   "source": [
    "You'll note that only white has set up their pieces. We need to draw black's. The unicodes you'll need are below:\n",
    "\n",
    "\\u265F - Black Pawn<br>\n",
    "\\u265E - Black Knight<br>\n",
    "\\u265D - Black Bishop<br>\n",
    "\\u265C - Black Rook<br>\n",
    "\\u265B - Black Queen<br>\n",
    "\\u265A - Black King<br>\n",
    "\n",
    "Finish the board. Don't forget that the board is set up as a mirror and the king's go opposite each other. "
   ]
  },
  {
   "attachments": {
    "image.png": {
     "image/png": "[encoded data removed]"
    }
   },
   "cell_type": "markdown",
   "metadata": {},
   "source": [
    "![image.png](attachment:image.png)"
   ]
  },
  {
   "cell_type": "code",
   "execution_count": null,
   "metadata": {
    "tags": []
   },
   "outputs": [],
   "source": [
    "print(\"   [A][B][C][D][E][F][G][H]\")\n",
    "# INSERT YOUR CODE\n",
    "...\n",
    "...\n",
    "# END OF YOUR CODE\n",
    "print(\"[6][ ][ ][ ][ ][ ][ ][ ][ ]\")\n",
    "print(\"[5][ ][ ][ ][ ][ ][ ][ ][ ]\")\n",
    "print(\"[4][ ][ ][ ][ ][ ][ ][ ][ ]\")\n",
    "print(\"[3][ ][ ][ ][ ][ ][ ][ ][ ]\")\n",
    "print(\"[2][\\u2659][\\u2659][\\u2659][\\u2659][\\u2659][\\u2659][\\u2659][\\u2659]\")\n",
    "print(\"[1][\\u2656][\\u2658][\\u2657][\\u2655][\\u2654][\\u2657][\\u2658][\\u2656]\")\n",
    "print(\"   [A][B][C][D][E][F][G][H]\")"
   ]
  },
  {
   "cell_type": "markdown",
   "metadata": {},
   "source": [
    "---\n",
    "## Demo 3 - Special Characters"
   ]
  },
  {
   "cell_type": "markdown",
   "metadata": {},
   "source": [
    "In the activities above, we used multiple `print()` functions for each line. Actually, we could have just used one to draw the entire board. To do this we would have had to include the `newline character`. This is the character that is inserted when we press the return key on our system.\n",
    "\n",
    "But, we we press the enter key when coding we simply go to a newline and the character itself is ignored. This is where we need to use a `\\` backslash in order to *escape* our characters."
   ]
  },
  {
   "cell_type": "code",
   "execution_count": null,
   "metadata": {},
   "outputs": [],
   "source": [
    "print(\"This text is on one line.\\nThis will appear on a new line.\")"
   ]
  },
  {
   "cell_type": "markdown",
   "metadata": {},
   "source": [
    "There are a series of special characters that we can use in the <code>print()</code> function:\n",
    "* \\' ----> '\n",
    "* \\\" ----> \"\n",
    "* \\n ----> newline\n",
    "* \\t ----> tab"
   ]
  },
  {
   "cell_type": "code",
   "execution_count": null,
   "metadata": {},
   "outputs": [],
   "source": [
    "print('\\t\\tThe Old Sea-dog at the Admiral Benbow\\n\\n\\nSQUIRE TRELAWNEY, Dr. Livesey, and the rest of these\\n gentlemen having asked me to write down the whole\\nparticulars about Treasure Island, from the beginning\\nto the end, keeping nothing back but the bearings of the\\nisland, and that only because there is still treasure not\\nyet lifted, I take up my pen in the year of grace 17__\\nand go back to the time when my father kept the Admiral\\nBenbow inn and the brown old seaman with the sabre cut\\nfirst took up his lodging under our roof.')"
   ]
  },
  {
   "cell_type": "markdown",
   "metadata": {},
   "source": [
    "---\n",
    "## Activity 3"
   ]
  },
  {
   "cell_type": "raw",
   "metadata": {},
   "source": [
    "DREAMS\n",
    "\n",
    "Hold fast to dreams\n",
    "For if dreams die\n",
    "Life is a broken-winged bird\n",
    "That cannot fly.\n",
    "\n",
    "Hold fast to dreams\n",
    "For when dreams go\n",
    "Life is a barren field\n",
    "Frozen with snow."
   ]
  },
  {
   "cell_type": "markdown",
   "metadata": {},
   "source": [
    "Above is a famous poem by Langston Hughes. Plese use **one** single print function and the newline character to print out the poem in the similar format as above."
   ]
  },
  {
   "cell_type": "code",
   "execution_count": null,
   "metadata": {
    "tags": []
   },
   "outputs": [],
   "source": [
    "# INSERT YOUR CODE BELOW\n",
    "# 1 LINE\n",
    "..."
   ]
  },
  {
   "cell_type": "markdown",
   "metadata": {},
   "source": [
    "---\n",
    "## Activity 4\n",
    "Setup Jupyter on your own machine. See the *Enviornment setup & download links* page in the Week 0 module for details."
   ]
  },
  {
   "cell_type": "markdown",
   "metadata": {},
   "source": [
    "---\n",
    "## Submission Exercise\n",
    "At the end of every workshop, we have a final activity that tests your knowledge. \n",
    "\n",
    "In this week, the activity is mainly to get you familiar with our submission system, **Gradescope**. Please download and complete the question locally on your laptop, before submitting to Gradescope. Before leaving the session, sign out with your tutor."
   ]
  },
  {
   "cell_type": "code",
   "execution_count": null,
   "metadata": {},
   "outputs": [],
   "source": []
  }
 ],
 "metadata": {
  "kernelspec": {
   "display_name": "Python 3 (ipykernel)",
   "language": "python",
   "name": "python3"
  },
  "language_info": {
   "codemirror_mode": {
    "name": "ipython",
    "version": 3
   },
   "file_extension": ".py",
   "mimetype": "text/x-python",
   "name": "python",
   "nbconvert_exporter": "python",
   "pygments_lexer": "ipython3",
   "version": "3.9.12"
  },
  "vscode": {
   "interpreter": {
    "hash": "d57c152add3a77aa406b6a31edc12b55f0062050fedadc6ea5d152b48566b0e5"
   }
  }
 },
 "nbformat": 4,
 "nbformat_minor": 4
}
