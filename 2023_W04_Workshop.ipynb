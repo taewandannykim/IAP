{
 "cells": [
  {
   "cell_type": "markdown",
   "metadata": {},
   "source": [
    "# COMP SCI 1015 IAP - W04 - Workshop "
   ]
  },
  {
   "cell_type": "markdown",
   "metadata": {},
   "source": [
    "## Demo 1: If Statement "
   ]
  },
  {
   "cell_type": "markdown",
   "metadata": {},
   "source": [
    "### Boolean expressions and logical operators "
   ]
  },
  {
   "cell_type": "markdown",
   "metadata": {},
   "source": [
    "A **boolean expression** is an expression that is either `True` or `False`."
   ]
  },
  {
   "cell_type": "code",
   "execution_count": null,
   "metadata": {},
   "outputs": [],
   "source": [
    "3 == 3"
   ]
  },
  {
   "cell_type": "code",
   "execution_count": null,
   "metadata": {},
   "outputs": [],
   "source": [
    "3 == 5"
   ]
  },
  {
   "cell_type": "code",
   "execution_count": null,
   "metadata": {},
   "outputs": [],
   "source": [
    "type(True)"
   ]
  },
  {
   "cell_type": "markdown",
   "metadata": {},
   "source": [
    "The `==` operator is a *relational operator*, others are\n",
    "- `x != y` not equal\n",
    "- `x > y` larger than\n",
    "- `x < y` smaller than\n",
    "- `x >= y` larger or equal to\n",
    "- `x <= y` smaller or equal to"
   ]
  },
  {
   "cell_type": "markdown",
   "metadata": {},
   "source": [
    "There are also three **logical operators** that are similar to their meaning in English\n",
    "- and\n",
    "- or\n",
    "- not"
   ]
  },
  {
   "cell_type": "markdown",
   "metadata": {},
   "source": [
    "Below are some example codes that combine relational operators and logical operators. Try read through the code and think about what would be the value of `t`"
   ]
  },
  {
   "cell_type": "code",
   "execution_count": null,
   "metadata": {},
   "outputs": [],
   "source": [
    "# what is the value of t?\n",
    "t = 6 > 3 and 3 < 2"
   ]
  },
  {
   "cell_type": "code",
   "execution_count": null,
   "metadata": {},
   "outputs": [],
   "source": [
    "# what is the value of t?\n",
    "x = 5\n",
    "t = x > 3 and x % 2 == 1"
   ]
  },
  {
   "cell_type": "markdown",
   "metadata": {},
   "source": [
    "### Conditional"
   ]
  },
  {
   "cell_type": "markdown",
   "metadata": {},
   "source": [
    "The **if** statement allows us to conditionally execute different code blocks. Again, the code blocks are determined by the indentation of the code. "
   ]
  },
  {
   "cell_type": "code",
   "execution_count": null,
   "metadata": {},
   "outputs": [],
   "source": [
    "x = 3 # try different x values\n",
    "if x > 0:\n",
    "    print('x is positive')"
   ]
  },
  {
   "cell_type": "markdown",
   "metadata": {},
   "source": [
    "The `if` statement often works hand-in-hand with the `else` statement"
   ]
  },
  {
   "cell_type": "code",
   "execution_count": null,
   "metadata": {},
   "outputs": [],
   "source": [
    "x = 5\n",
    "if x % 2 == 1:\n",
    "    print('x is an odd number')\n",
    "else:\n",
    "    print('x is an even number')"
   ]
  },
  {
   "cell_type": "markdown",
   "metadata": {},
   "source": [
    "In the cases where we have more than two possibilities, we will use chained conditionals as follow:"
   ]
  },
  {
   "cell_type": "code",
   "execution_count": null,
   "metadata": {},
   "outputs": [],
   "source": [
    "answer = 'a'\n",
    "\n",
    "if answer == 'a':\n",
    "    print('correct!')\n",
    "elif answer == 'b':\n",
    "    print('b is not the the correct answer, because ...')\n",
    "elif answer == 'c':\n",
    "    print('c is not the correct answer, because ...')\n",
    "else:\n",
    "    print('please choose among a, b, c')\n"
   ]
  },
  {
   "cell_type": "code",
   "execution_count": null,
   "metadata": {},
   "outputs": [],
   "source": [
    "age = input('what is your age? ')\n",
    "age = int(age)\n",
    "if age >= 18:\n",
    "    #code block to be executed for if age >= 18\n",
    "    print('you are old enough to vote!')\n",
    "else:\n",
    "    #code block to be executed otherwise\n",
    "    print('you needs to wait {18-age} more year to vote!')"
   ]
  },
  {
   "cell_type": "code",
   "execution_count": null,
   "metadata": {},
   "outputs": [],
   "source": [
    "v = 3 # this is good\n",
    "#v = 15 # <- this will create unintended output\n",
    "\n",
    "if v % 3 == 0:\n",
    "    print(f'{v} is divisible by 3')\n",
    "if v % 5 == 0:\n",
    "    print(f'{v} is divisible by 5')\n",
    "if v % 3 == 0 and v % 5 == 0:\n",
    "    print(f'{v} is divisible by 3 and 5')\n",
    "    "
   ]
  },
  {
   "cell_type": "markdown",
   "metadata": {},
   "source": [
    "- start trying different input number\n",
    "- then start moving expressions around. As a rule of thumb, the more stringent conditions should appear earlier."
   ]
  },
  {
   "cell_type": "code",
   "execution_count": null,
   "metadata": {},
   "outputs": [],
   "source": [
    "v = 15\n",
    "\n",
    "if v % 3 == 0 and v % 5 == 0:\n",
    "    print(f'{v} is divisible by 3 and 5')\n",
    "elif v % 3 == 0:\n",
    "    print(f'{v} is divisible by 3')\n",
    "elif v % 5 == 0:\n",
    "    print(f'{v} is divisible by 5')\n",
    "else\n",
    "    print(f'{v} is not divisible by 3 or 5')\n",
    "    "
   ]
  },
  {
   "cell_type": "markdown",
   "metadata": {},
   "source": [
    "---\n",
    "## Activity 1: COVID guides"
   ]
  },
  {
   "cell_type": "markdown",
   "metadata": {},
   "source": [
    "<!-- BEGIN QUESTION -->\n",
    "\n",
    "In an imaginary country, a strange virus is spreading. However, due to the limited amount of the virus testing kit, there is a guidelines that the people has to follow. \n",
    "\n",
    "1. one who has close-contact with COVID patients should be **quarantined**\n",
    "1. one who has symptoms should be **isolated**\n",
    "1. one who is below 18 years old and has close-contact should do daily **RAT**.\n",
    "\n",
    "Please write a Python program that provides the correct guideline to the people in need"
   ]
  },
  {
   "cell_type": "code",
   "execution_count": null,
   "metadata": {
    "tags": []
   },
   "outputs": [],
   "source": [
    "age = int(input('Please input your age: '))\n",
    "sym = input('Do you have any symptoms? (y/n): ')\n",
    "close = input('Do you have close-contact with any infectious person? (y/n)')\n",
    "\n",
    "# your program should provide one of the following three suggesstions.\n",
    "def covid_guide(age, sym, close):\n",
    "...\n",
    "\n",
    "covid_guide(age, sym, close)\n",
    "\n",
    "# YOU CAN TEST YOUR CODE WITH THE FOLLOWING CASES\n",
    "print('== TEST CASES BELOW ==')\n",
    "covid_guide(35, 'y', 'y') # isolated\n",
    "covid_guide(16, 'n', 'y') # RAT\n",
    "covid_guide(35, 'n', 'y') # quarantine"
   ]
  },
  {
   "cell_type": "markdown",
   "metadata": {},
   "source": [
    "<!-- END QUESTION -->\n",
    "\n",
    "---\n",
    "## Demo 2 - Iteration and while statement"
   ]
  },
  {
   "cell_type": "markdown",
   "metadata": {},
   "source": [
    "Programmers write codes to automate boring and repetitive stuff. In a computer program, reptition is formally called **iteration**. Python provides multiple ways to do iterations. The first method we will learn is the *while* statement. The line 2 below basically says \"While `i` is smaller than 5, keep executing line 3 and 4\"."
   ]
  },
  {
   "cell_type": "code",
   "execution_count": null,
   "metadata": {},
   "outputs": [],
   "source": [
    "i = 0\n",
    "while i<5: # while i is smaller than 5, execute line 3 and 4\n",
    "    print(i)\n",
    "    i = i + 1"
   ]
  },
  {
   "cell_type": "markdown",
   "metadata": {},
   "source": [
    "We can also write a countdown function using the `while` statement. When calling the function `countdown`, Python will keep executing line 3 and line 4 as long as `n` is larger than 0."
   ]
  },
  {
   "cell_type": "code",
   "execution_count": null,
   "metadata": {},
   "outputs": [],
   "source": [
    "def countdown(n):\n",
    "    while n > 0:\n",
    "        print(n)\n",
    "        n = n - 1\n",
    "    print('done!')\n",
    "\n",
    "countdown(2)\n",
    "countdown(4)"
   ]
  },
  {
   "cell_type": "markdown",
   "metadata": {},
   "source": [
    "### Debugging while loop\n",
    "\n",
    "While loop is really useful but sometimes your code might not know when to stop! For example, take a closer look at the cell below and envision what will happen if you execute it."
   ]
  },
  {
   "cell_type": "code",
   "execution_count": null,
   "metadata": {
    "scrolled": true,
    "tags": []
   },
   "outputs": [],
   "source": [
    "# i = 0\n",
    "# while i < 5:\n",
    "#    print(i)"
   ]
  },
  {
   "cell_type": "markdown",
   "metadata": {},
   "source": [
    "The code above will go into an **infinite loop**, because the value of `i` will never change and Python will keep executing line 3 because the `i < 5` statement is always `True` in this case. \n",
    "\n",
    "To stop the cell from execution, you would need to use the stop button as shown in the figure below."
   ]
  },
  {
   "attachments": {
    "74e2a165-f3ff-42bb-8836-aecaff5c4b06.jpg": {
     "image/jpeg": "[encoded data removed]"
    }
   },
   "cell_type": "markdown",
   "metadata": {},
   "source": [
    "![CleanShot 2022-02-03 at 17.07.10.jpg.jpg](attachment:74e2a165-f3ff-42bb-8836-aecaff5c4b06.jpg)"
   ]
  },
  {
   "cell_type": "markdown",
   "metadata": {},
   "source": [
    "---\n",
    "## Demo 3 - break"
   ]
  },
  {
   "cell_type": "markdown",
   "metadata": {},
   "source": [
    "The `break` statement will immediately terminate the `while` loop once it is executed. For example, we can rewrite the countdown below:"
   ]
  },
  {
   "cell_type": "code",
   "execution_count": null,
   "metadata": {},
   "outputs": [],
   "source": [
    "x = 5\n",
    "\n",
    "while True: # keep looping until the break statement is called\n",
    "    if x < 0:\n",
    "        break # break is called when x is smaller or equal to 0\n",
    "    print(x)\n",
    "    x = x - 1"
   ]
  },
  {
   "cell_type": "markdown",
   "metadata": {},
   "source": [
    "The `break` statement is also useful when we do not know when to terminate the program. For example, the termination condition might depends on a user input:"
   ]
  },
  {
   "cell_type": "code",
   "execution_count": null,
   "metadata": {},
   "outputs": [],
   "source": [
    "msg = ''\n",
    "while msg != 'quit':\n",
    "    msg = input(\"I will repeat your words (enter 'quit' to finsh the program):\")\n",
    "    print(f'repeat: {msg}')\n",
    "    "
   ]
  },
  {
   "cell_type": "markdown",
   "metadata": {},
   "source": [
    "---\n",
    "## Activity 2"
   ]
  },
  {
   "cell_type": "markdown",
   "metadata": {},
   "source": [
    "<!-- BEGIN QUESTION -->\n",
    "\n",
    "Please complete two functions below:\n",
    "- `print_odd(n)`, print odd numbers between 0 to `n`\n",
    "- `print_even(a, b)`, print even numbers between `a` and `b` (inclusive of `a` and `b`)"
   ]
  },
  {
   "cell_type": "markdown",
   "metadata": {},
   "source": [
    "Plese complete the code below:"
   ]
  },
  {
   "cell_type": "code",
   "execution_count": null,
   "metadata": {
    "tags": []
   },
   "outputs": [],
   "source": [
    "def print_odd(n):\n",
    "    '''print all odd numbers that are smaller than n'''\n",
    "    # INSERT YOUR CODE BELOW\n",
    "    # ~ 5 lines\n",
    "    ...\n",
    "    \n",
    "def print_even(a, b):\n",
    "    '''print even numbers between a and b (include a and b)'''\n",
    "    # INSERT YOUR CODE BELOW\n",
    "    # ~ 5 lines\n",
    "    ...\n",
    "    \n",
    "        \n",
    "print_odd(5) # should print 1, 3\n",
    "print('--')\n",
    "print_odd(10) # should print 1, 3, 5, 7, 9\n",
    "print('--')\n",
    "print_even(2, 8) # should print 2, 4, 6, 8\n",
    "print('--')\n",
    "print_even(1, 4) # should print 2, 4    \n",
    "    "
   ]
  },
  {
   "cell_type": "markdown",
   "metadata": {},
   "source": [
    "<!-- END QUESTION -->\n",
    "\n",
    "---\n",
    "## Submission Exercise"
   ]
  },
  {
   "cell_type": "markdown",
   "metadata": {},
   "source": [
    "<!-- BEGIN QUESTION -->\n",
    "\n",
    "Please write function that calculates the factorial of `n`.\n",
    "\n",
    "See here for the definition of factorial: https://www.cuemath.com/numbers/factorial/\n",
    "\n",
    "For example, \n",
    "- 5! = 1 x 2 x 3 x 4 x 5\n",
    "- 7! = 1 x 2 x 3 x 4 x 5 x 6 x 7"
   ]
  },
  {
   "cell_type": "code",
   "execution_count": null,
   "metadata": {
    "tags": []
   },
   "outputs": [],
   "source": [
    "def factorial(n):    \n",
    "    s = 1\n",
    "    # INSERT YOUR CODE BELOW\n",
    "    ...\n",
    "    return s\n",
    "\n",
    "ans = factorial(7) \n",
    "print(f'{ans}') #5040\n",
    "\n",
    "ans = factorial(5)\n",
    "print(f'{ans}') # 120\n"
   ]
  },
  {
   "cell_type": "markdown",
   "metadata": {},
   "source": [
    "<!-- END QUESTION -->\n",
    "\n"
   ]
  }
 ],
 "metadata": {
  "kernelspec": {
   "display_name": "Python 3 (ipykernel)",
   "language": "python",
   "name": "python3"
  },
  "language_info": {
   "codemirror_mode": {
    "name": "ipython",
    "version": 3
   },
   "file_extension": ".py",
   "mimetype": "text/x-python",
   "name": "python",
   "nbconvert_exporter": "python",
   "pygments_lexer": "ipython3",
   "version": "3.9.12"
  },
  "otter": {
   "tests": {
    "Submission": {
     "name": "Submission",
     "points": 0,
     "suites": [
      {
       "cases": [
        {
         "code": ">>> factorial(7) == 5040\nTrue",
         "failure_message": "Incorrect answer, try again!",
         "hidden": false,
         "locked": false,
         "success_message": "Good job!"
        },
        {
         "code": ">>> factorial(5) == 120\nTrue",
         "failure_message": "Incorrect answer, try again!",
         "hidden": false,
         "locked": false,
         "success_message": "Good job!"
        },
        {
         "code": ">>> factorial(3) == 6\nTrue",
         "failure_message": "Incorrect answer, try again!",
         "hidden": false,
         "locked": false,
         "success_message": "Good job!"
        }
       ],
       "scored": true,
       "setup": "",
       "teardown": "",
       "type": "doctest"
      }
     ]
    }
   }
  }
 },
 "nbformat": 4,
 "nbformat_minor": 4
}
